{
 "cells": [
  {
   "cell_type": "code",
   "execution_count": null,
   "metadata": {},
   "outputs": [],
   "source": [
    "# Организация кодовой базы в соответсвии с требованиям PEP8\n",
    "# Область видимости\n",
    "\n",
    "a = 50\n",
    "b = 100\n",
    "object1 = 'Ilnaz'\n",
    "object2 = 'Tulkin'\n",
    "object3 = 'Faritovich'\n",
    "\n",
    "# получаем глобальные переменные внутри функции\n",
    "def global_peremennie():\n",
    "    print(a+b, a*b, a/b, a-b)\n",
    "    print('ФИО студента: ', object1, object2, object3)\n",
    "    print(a)\n",
    "\n",
    "#Создаем локальные переменные, увидим, что если задать локальные переменные с тем же названием, влияния глобальных\n",
    "#переменных никого не будет\n",
    "def local_peremennie():\n",
    "    a = 100\n",
    "    b = 50\n",
    "    object1 = 'Guzel'\n",
    "    object2 = 'Nazargulova'\n",
    "    object3 = 'Rushanovna'\n",
    "    print(a+b, a*b, a/b, a-b)\n",
    "    print('ФИО студента: ', object1, object2, object3)\n",
    "\n",
    "# При необходимости использование и изменение значение глобальных переменных необходимо использовать ключевое слово global\n",
    "def global_and_local_peremennie():\n",
    "    global a\n",
    "    a = a*10\n",
    "    print(a)\n",
    "\n",
    "def main(): #Использование функции будет происходить в последовательсности по принципу сверху вниз\n",
    "    global_peremennie()\n",
    "    local_peremennie()\n",
    "    global_and_local_peremennie()\n",
    "    global_peremennie()\n",
    "\n",
    "if __name__ == '__main__':\n",
    "    main()"
   ]
  }
 ],
 "metadata": {
  "language_info": {
   "name": "python"
  },
  "orig_nbformat": 4
 },
 "nbformat": 4,
 "nbformat_minor": 2
}
