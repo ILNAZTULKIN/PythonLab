{
 "cells": [
  {
   "cell_type": "code",
   "execution_count": null,
   "metadata": {},
   "outputs": [],
   "source": [
    "import random #Библиотека ГСЧ\n",
    "\n",
    "def random_chislo(): #сгенирование числа в диапозоне (1;100)\n",
    "    random_number = random.randint(1, 100)\n",
    "    return random_number\n",
    "\n",
    "def random_list(): #выбор случайного элемента из строки методом randint\n",
    "    string = 'abcdefghlfnmk'\n",
    "    random_index = random.randint(0, len(string) - 1)\n",
    "    char = string[random_index]\n",
    "    return char\n",
    "def random_list_choice(): # выбор случайного элемента из строки методом choice\n",
    "    string = 'qwertyuiopasdfghjklzxcvbnm'\n",
    "    char = random.choice(string)\n",
    "    return char\n",
    "\n",
    "def main():\n",
    "    r1 = random_chislo()\n",
    "    print(r1)\n",
    "    r2 = random_list()\n",
    "    print(r2)\n",
    "    r3 = random_list_choice()\n",
    "    print(r3)\n",
    "\n",
    "if __name__ == \"__main__\":\n",
    "\tmain()\n"
   ]
  }
 ],
 "metadata": {
  "language_info": {
   "name": "python"
  },
  "orig_nbformat": 4
 },
 "nbformat": 4,
 "nbformat_minor": 2
}
