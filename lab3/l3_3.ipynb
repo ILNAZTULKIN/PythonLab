{
 "cells": [
  {
   "cell_type": "code",
   "execution_count": null,
   "metadata": {},
   "outputs": [],
   "source": [
    "#Инциализация счетчика\n",
    "class counter:\n",
    "    def __init__(self):\n",
    "        self.counter = 0\n",
    "\n",
    "    def __call__(self, *args, **kwargs):\n",
    "        self.counter +=1\n",
    "        return self.counter\n",
    "b1 = counter()\n",
    "b1()\n",
    "b1()\n",
    "b1()\n",
    "\n",
    "b2= counter()\n",
    "b2()\n",
    "b2()\n",
    "b2()\n",
    "b2()\n",
    "b2()\n",
    "\n",
    "print(b1())\n",
    "print(b2())"
   ]
  }
 ],
 "metadata": {
  "language_info": {
   "name": "python"
  },
  "orig_nbformat": 4
 },
 "nbformat": 4,
 "nbformat_minor": 2
}
