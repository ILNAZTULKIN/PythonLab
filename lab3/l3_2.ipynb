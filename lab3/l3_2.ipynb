{
 "cells": [
  {
   "cell_type": "code",
   "execution_count": null,
   "metadata": {},
   "outputs": [],
   "source": [
    "# Разница между str и repr\n",
    "class magazine_student:\n",
    "    student = ''\n",
    "    attendance = ''\n",
    "\n",
    "    def __init__(self, student, attendance):\n",
    "        self.student = student\n",
    "        self.attendance = attendance\n",
    "     #Представление объекта в любом виде\n",
    "\n",
    "    def __repr__(self):\n",
    "        return {'ФИО студента': self.student, 'Посещаемость': self.attendance}\n",
    "     #Возвращение только в строковом значение объекта\n",
    "    def __str__(self):\n",
    "        return 'magazine_student(ФИО Студента: '+self.student+ ', Посещаемость'+self.attendance+')'\n",
    "\n",
    "b1 = magazine_student('Тюлькин Ильназ Фаритович', 'Не посещал')\n",
    "b2 = magazine_student('Перетягин Илья Олегович', 'Посещал')\n",
    "\n",
    "print(type(b1.__str__()))\n",
    "print(type(b2.__repr__()))\n"
   ]
  }
 ],
 "metadata": {
  "language_info": {
   "name": "python"
  },
  "orig_nbformat": 4
 },
 "nbformat": 4,
 "nbformat_minor": 2
}
